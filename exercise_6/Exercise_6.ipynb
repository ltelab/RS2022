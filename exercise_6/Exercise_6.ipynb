{
 "cells": [
  {
   "cell_type": "markdown",
   "metadata": {},
   "source": [
    "###### Exercise 6 - Image classification\n",
    "\n",
    "### Introduction\n",
    "\n",
    "\n",
    "In this exercise we will study two very versatile and useful transforms and see some examples of their uses in remote sensing using Python."
   ]
  },
  {
   "cell_type": "markdown",
   "metadata": {},
   "source": [
    "### How to use this Jupyter Notebook\n",
    "\n",
    "The Jupyter Notebook is composed by a series of *cells*, each one containing either Python code or text instructions.\n",
    "The text instruction that you are currently reading here are inside a *text cell*.\n",
    "\n",
    "To run a cell, just click on it and then press the `Run` button at the top of the screen, or use the shortcut `Shift - Enter`.\n",
    "\n",
    "You will not need to run *text cells*.\n",
    "Only cells containing Python code need to be run.\n",
    "Make sure that you will execute *code cells* in descending order, from the beginning of this Jupyter Notebook to its end. \n",
    "Since this Jupyter Notebook runs online, you will not need to install anything on your personal computer.\n",
    "\n",
    "If you prefer, and/or if you already have a Python installation on your personal computer, you can also download this notebook from [this GitHub repository](https://github.com/ltelab/RS2022/tree/main/exercise_7) and run it locally.\n",
    "In this case, you will need to install the packages listed in the [`requirements.txt`](https://github.com/ltelab/RS2022/blob/main/exercise_7/requirements.txt) file.\n",
    "\n",
    "You are not required to have prior Python programming knowledge.\n",
    "All you will have to do is to modify the value of some quantities (or *variables*) to achieve the result requested by each section of the exercise.\n",
    "You will need to interpret these results to answer the questions of the exercise.\n",
    "However, if you want to experiment with the code provided, feel free to edit the code: the changes that you make will not overwrite the original copy of the notebook.\n",
    "When logged in through EPFL's Noto platform, your changes will be saved to your session.\n",
    "\n",
    "**Variables that will need to be modified will be defined in UPPERCASE and preceeded by a comment indicating the request**\n",
    "\n",
    "A comment is a line of code preceeded by the symbol *#*.\n",
    "For example:\n",
    "\n",
    "    # This is a comment\n",
    "\n",
    "A variable that you will be required to modify will look like the following example:\n",
    "    \n",
    "    # Modify the value of the following variable\n",
    "    VARIABLE_TO_MODIFY = 2\n",
    "\n",
    "To modify the variable, change the value after the = sign. For example:\n",
    "\n",
    "    VARIABLE_TO_MODIFY = 3\n",
    "\n",
    "will change the value of *VARIABLE_TO_MODIFY* from *2* to *3*."
   ]
  },
  {
   "cell_type": "markdown",
   "metadata": {},
   "source": [
    "### Note memory consumption\n",
    "\n",
    "Across the exercise, we provided several code cells that \"reset\" the notebook, clearing up some RAM memory space.\n",
    "In theory, those should be sufficient to execute the exercise on EPFL Noto.\n",
    "If you still encounter a high memory consumption, we suggest two approaches:\n",
    "- Clear all current outputs by clicking on `Cell` -> `All Output` -> `Clear`\n",
    "- Re-start the kernel by clicking on `Kernel` -> `Restart & Clear Output`.\n",
    "\n",
    "In both cases, you will need to continue with the exercise from the cell that loads the python libraries immediately precceding the part of the exercise you will be working on.\n",
    "By *loading the libraries* we mean the code cells containing lines of codes such as:\n",
    "\n",
    "    import numpy as np\n",
    "    import PIL.Image"
   ]
  },
  {
   "cell_type": "markdown",
   "metadata": {},
   "source": [
    "#### Start the exercise by running the next cell: it will import the libraries needed for the exercise."
   ]
  },
  {
   "cell_type": "code",
   "execution_count": null,
   "metadata": {},
   "outputs": [],
   "source": []
  }
 ],
 "metadata": {
  "kernelspec": {
   "display_name": "Python 3 (ipykernel)",
   "language": "python",
   "name": "python3"
  },
  "language_info": {
   "codemirror_mode": {
    "name": "ipython",
    "version": 3
   },
   "file_extension": ".py",
   "mimetype": "text/x-python",
   "name": "python",
   "nbconvert_exporter": "python",
   "pygments_lexer": "ipython3",
   "version": "3.9.7"
  }
 },
 "nbformat": 4,
 "nbformat_minor": 4
}
